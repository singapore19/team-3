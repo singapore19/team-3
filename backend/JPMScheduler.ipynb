{
 "cells": [
  {
   "cell_type": "code",
   "execution_count": null,
   "metadata": {},
   "outputs": [],
   "source": [
    "def openClose(job):\n",
    "    if job.status == 'closed':\n",
    "        return False\n",
    "    return True"
   ]
  },
  {
   "cell_type": "code",
   "execution_count": 8,
   "metadata": {},
   "outputs": [
    {
     "name": "stdout",
     "output_type": "stream",
     "text": [
      "2018-11-20 00:00:00\n",
      "2018-11-20 00:00:00\n",
      "2018-11-17 00:00:00\n",
      "True\n"
     ]
    }
   ],
   "source": [
    "from datetime import *\n",
    "\n",
    "def dateFilter(job):\n",
    "    scheduleDate = job.date.split('-')\n",
    "    submitDate = job.created[:10].split('-')\n",
    "    d1 = datetime(int(scheduleDate[0]),int(scheduleDate[1]),int(scheduleDate[2]))\n",
    "    d2 = datetime(int(submitDate[0]),int(submitDate[1]), int(submitDate[2]))\n",
    "    d1 = d1 + timedelta(days=-3)\n",
    "    if d1 =< d2:\n",
    "        return True\n",
    "    return False\n",
    "    \n"
   ]
  },
  {
   "cell_type": "code",
   "execution_count": null,
   "metadata": {},
   "outputs": [],
   "source": [
    "from datetime import *\n",
    "def checkLeave(driver,job):\n",
    "    leaveStart = driver.leave.startDate.split('-')\n",
    "    leaveEnd = driver.leave.endDate.split('-')\n",
    "    dStart = datetime(int(leaveStart[0]),int(leaveStart[1]),int(leaveStart[2]))\n",
    "    dEnd = datetime(int(leaveEnd[0]),int(leaveEnd[1]),int(leaveEnd[2]))\n",
    "    currentDate = job.date.split('-')\n",
    "    dCurrent = datetime(int(currentDate[0]),int(currentDate[1]),int(currentDate[2]))\n",
    "    if dStart <= dCurrent <= dEnd:\n",
    "        return False\n",
    "    return True"
   ]
  },
  {
   "cell_type": "code",
   "execution_count": 13,
   "metadata": {},
   "outputs": [
    {
     "name": "stdout",
     "output_type": "stream",
     "text": [
      "true\n"
     ]
    }
   ],
   "source": [
    "def scheduler(job,driver):\n",
    "    if(openClose(job) && dateFilter(job) && checkLeave(driver,job)):\n",
    "        job.isValid = 'True'\n",
    "        setPriority(job)\n",
    "    else:\n",
    "        job.isValid = 'False'"
   ]
  },
  {
   "cell_type": "code",
   "execution_count": null,
   "metadata": {},
   "outputs": [],
   "source": [
    "def setPriority(job):\n",
    "    scheduleDate = job.date.split('-')\n",
    "    submitDate = job.created[:10].split('-')\n",
    "    d1 = datetime(int(scheduleDate[0]),int(scheduleDate[1]),int(scheduleDate[2]))\n",
    "    d2 = datetime(int(submitDate[0]),int(submitDate[1]), int(submitDate[2]))\n",
    "        if d1 == (d2 + timedelta(days=2)):\n",
    "            job.priority = 1\n",
    "        elif d1 == (d2 + timedelta(days=1)):\n",
    "            job.priority = 2\n",
    "        elif d1 == (d2 + timedelta(days=0)):\n",
    "            job.priority = 3\n",
    "        if isAdHoc:\n",
    "            job.priority = 4\n",
    "    "
   ]
  },
  {
   "cell_type": "code",
   "execution_count": 25,
   "metadata": {
    "scrolled": true
   },
   "outputs": [
    {
     "name": "stdout",
     "output_type": "stream",
     "text": [
      "4\n"
     ]
    }
   ],
   "source": []
  }
 ],
 "metadata": {
  "kernelspec": {
   "display_name": "Python 3",
   "language": "python",
   "name": "python3"
  },
  "language_info": {
   "codemirror_mode": {
    "name": "ipython",
    "version": 3
   },
   "file_extension": ".py",
   "mimetype": "text/x-python",
   "name": "python",
   "nbconvert_exporter": "python",
   "pygments_lexer": "ipython3",
   "version": "3.6.8"
  }
 },
 "nbformat": 4,
 "nbformat_minor": 2
}
